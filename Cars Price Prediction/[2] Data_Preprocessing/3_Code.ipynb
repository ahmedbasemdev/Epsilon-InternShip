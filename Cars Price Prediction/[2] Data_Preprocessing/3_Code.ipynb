{
 "cells": [
  {
   "cell_type": "code",
   "execution_count": 2,
   "metadata": {},
   "outputs": [],
   "source": [
    "import pandas as pd\n",
    "import numpy as np\n",
    "import os"
   ]
  },
  {
   "cell_type": "code",
   "execution_count": 3,
   "metadata": {},
   "outputs": [
    {
     "name": "stdout",
     "output_type": "stream",
     "text": [
      "H:\\Projects\\Epsilon InternShip\\Cars Price Prediction\\[1] Scraping Data\\cars.csv\n"
     ]
    }
   ],
   "source": [
    "path = os.path.normpath(os.getcwd() + os.sep + os.pardir) + \"\\[1] Scraping Data\" + \"\\cars.csv\"\n",
    "print(path)"
   ]
  },
  {
   "cell_type": "code",
   "execution_count": 4,
   "metadata": {},
   "outputs": [
    {
     "data": {
      "text/html": [
       "<div>\n",
       "<style scoped>\n",
       "    .dataframe tbody tr th:only-of-type {\n",
       "        vertical-align: middle;\n",
       "    }\n",
       "\n",
       "    .dataframe tbody tr th {\n",
       "        vertical-align: top;\n",
       "    }\n",
       "\n",
       "    .dataframe thead th {\n",
       "        text-align: right;\n",
       "    }\n",
       "</style>\n",
       "<table border=\"1\" class=\"dataframe\">\n",
       "  <thead>\n",
       "    <tr style=\"text-align: right;\">\n",
       "      <th></th>\n",
       "      <th>Make</th>\n",
       "      <th>Model</th>\n",
       "      <th>CC</th>\n",
       "      <th>Used since</th>\n",
       "      <th>Km</th>\n",
       "      <th>Transmission</th>\n",
       "      <th>City</th>\n",
       "      <th>Color</th>\n",
       "      <th>Body Style</th>\n",
       "      <th>Fuel</th>\n",
       "      <th>...</th>\n",
       "      <th>Alloy wheels</th>\n",
       "      <th>Rear camera</th>\n",
       "      <th>GPS</th>\n",
       "      <th>Fog light</th>\n",
       "      <th>Rear spoiler</th>\n",
       "      <th>Cruise control</th>\n",
       "      <th>Power Seats</th>\n",
       "      <th>Central lock</th>\n",
       "      <th>Alarm</th>\n",
       "      <th>Price</th>\n",
       "    </tr>\n",
       "  </thead>\n",
       "  <tbody>\n",
       "    <tr>\n",
       "      <th>0</th>\n",
       "      <td>Skoda</td>\n",
       "      <td>Rapid</td>\n",
       "      <td>NaN</td>\n",
       "      <td>2014.0</td>\n",
       "      <td>89,000 Km</td>\n",
       "      <td>automatic</td>\n",
       "      <td>Nasr city</td>\n",
       "      <td>Black</td>\n",
       "      <td>NaN</td>\n",
       "      <td>gas</td>\n",
       "      <td>...</td>\n",
       "      <td>False</td>\n",
       "      <td>False</td>\n",
       "      <td>False</td>\n",
       "      <td>True</td>\n",
       "      <td>False</td>\n",
       "      <td>False</td>\n",
       "      <td>True</td>\n",
       "      <td>True</td>\n",
       "      <td>True</td>\n",
       "      <td>225,000 EGP</td>\n",
       "    </tr>\n",
       "    <tr>\n",
       "      <th>1</th>\n",
       "      <td>Skoda</td>\n",
       "      <td>Octavia A7</td>\n",
       "      <td>NaN</td>\n",
       "      <td>2015.0</td>\n",
       "      <td>120,000 Km</td>\n",
       "      <td>automatic</td>\n",
       "      <td>Cairo</td>\n",
       "      <td>Blue</td>\n",
       "      <td>NaN</td>\n",
       "      <td>gas</td>\n",
       "      <td>...</td>\n",
       "      <td>True</td>\n",
       "      <td>True</td>\n",
       "      <td>True</td>\n",
       "      <td>True</td>\n",
       "      <td>True</td>\n",
       "      <td>True</td>\n",
       "      <td>True</td>\n",
       "      <td>True</td>\n",
       "      <td>True</td>\n",
       "      <td>295,000 EGP</td>\n",
       "    </tr>\n",
       "    <tr>\n",
       "      <th>2</th>\n",
       "      <td>Renault</td>\n",
       "      <td>Sandero</td>\n",
       "      <td>NaN</td>\n",
       "      <td>2016.0</td>\n",
       "      <td>70,000 Km</td>\n",
       "      <td>automatic</td>\n",
       "      <td>El Haram</td>\n",
       "      <td>Red</td>\n",
       "      <td>NaN</td>\n",
       "      <td>gas</td>\n",
       "      <td>...</td>\n",
       "      <td>False</td>\n",
       "      <td>False</td>\n",
       "      <td>False</td>\n",
       "      <td>False</td>\n",
       "      <td>False</td>\n",
       "      <td>False</td>\n",
       "      <td>False</td>\n",
       "      <td>False</td>\n",
       "      <td>False</td>\n",
       "      <td>200,000 EGP</td>\n",
       "    </tr>\n",
       "    <tr>\n",
       "      <th>3</th>\n",
       "      <td>MG</td>\n",
       "      <td>ZS</td>\n",
       "      <td>NaN</td>\n",
       "      <td>2020.0</td>\n",
       "      <td>21,000 Km</td>\n",
       "      <td>automatic</td>\n",
       "      <td>El Haram</td>\n",
       "      <td>Red</td>\n",
       "      <td>NaN</td>\n",
       "      <td>gas</td>\n",
       "      <td>...</td>\n",
       "      <td>True</td>\n",
       "      <td>False</td>\n",
       "      <td>True</td>\n",
       "      <td>True</td>\n",
       "      <td>False</td>\n",
       "      <td>True</td>\n",
       "      <td>True</td>\n",
       "      <td>True</td>\n",
       "      <td>True</td>\n",
       "      <td>360,000 EGP</td>\n",
       "    </tr>\n",
       "    <tr>\n",
       "      <th>4</th>\n",
       "      <td>MG</td>\n",
       "      <td>5</td>\n",
       "      <td>NaN</td>\n",
       "      <td>2021.0</td>\n",
       "      <td>28,000 Km</td>\n",
       "      <td>automatic</td>\n",
       "      <td>El Haram</td>\n",
       "      <td>Red</td>\n",
       "      <td>NaN</td>\n",
       "      <td>gas</td>\n",
       "      <td>...</td>\n",
       "      <td>True</td>\n",
       "      <td>False</td>\n",
       "      <td>False</td>\n",
       "      <td>True</td>\n",
       "      <td>False</td>\n",
       "      <td>False</td>\n",
       "      <td>True</td>\n",
       "      <td>False</td>\n",
       "      <td>True</td>\n",
       "      <td>340,000 EGP</td>\n",
       "    </tr>\n",
       "  </tbody>\n",
       "</table>\n",
       "<p>5 rows × 51 columns</p>\n",
       "</div>"
      ],
      "text/plain": [
       "      Make       Model   CC  Used since          Km Transmission       City  \\\n",
       "0    Skoda       Rapid  NaN      2014.0   89,000 Km    automatic  Nasr city   \n",
       "1    Skoda  Octavia A7  NaN      2015.0  120,000 Km    automatic      Cairo   \n",
       "2  Renault     Sandero  NaN      2016.0   70,000 Km    automatic   El Haram   \n",
       "3       MG          ZS  NaN      2020.0   21,000 Km    automatic   El Haram   \n",
       "4       MG           5  NaN      2021.0   28,000 Km    automatic   El Haram   \n",
       "\n",
       "   Color Body Style Fuel  ...  Alloy wheels  Rear camera    GPS  Fog light  \\\n",
       "0  Black        NaN  gas  ...         False        False  False       True   \n",
       "1   Blue        NaN  gas  ...          True         True   True       True   \n",
       "2    Red        NaN  gas  ...         False        False  False      False   \n",
       "3    Red        NaN  gas  ...          True        False   True       True   \n",
       "4    Red        NaN  gas  ...          True        False  False       True   \n",
       "\n",
       "   Rear spoiler  Cruise control  Power Seats  Central lock  Alarm        Price  \n",
       "0         False           False         True          True   True  225,000 EGP  \n",
       "1          True            True         True          True   True  295,000 EGP  \n",
       "2         False           False        False         False  False  200,000 EGP  \n",
       "3         False            True         True          True   True  360,000 EGP  \n",
       "4         False           False         True         False   True  340,000 EGP  \n",
       "\n",
       "[5 rows x 51 columns]"
      ]
     },
     "execution_count": 4,
     "metadata": {},
     "output_type": "execute_result"
    }
   ],
   "source": [
    "data = pd.read_csv(path ,encoding='latin-1')\n",
    "data.head()"
   ]
  },
  {
   "cell_type": "code",
   "execution_count": 5,
   "metadata": {},
   "outputs": [
    {
     "name": "stdout",
     "output_type": "stream",
     "text": [
      "There are 38611 rows and 51 columns\n"
     ]
    }
   ],
   "source": [
    "print(f'There are {data.shape[0]} rows and {data.shape[1]} columns')"
   ]
  },
  {
   "cell_type": "code",
   "execution_count": 6,
   "metadata": {},
   "outputs": [
    {
     "data": {
      "text/plain": [
       "0 Km          7772\n",
       "200,000 Km    2485\n",
       "150,000 Km    1400\n",
       "100,000 Km     950\n",
       "130,000 Km     816\n",
       "              ... \n",
       "408,000 Km       1\n",
       "21,500 Km        1\n",
       "130,500 Km       1\n",
       "57,310 Km        1\n",
       "186,100 Km       1\n",
       "Name: Km, Length: 1032, dtype: int64"
      ]
     },
     "execution_count": 6,
     "metadata": {},
     "output_type": "execute_result"
    }
   ],
   "source": [
    "data['Km'].value_counts()"
   ]
  },
  {
   "cell_type": "code",
   "execution_count": 7,
   "metadata": {},
   "outputs": [
    {
     "name": "stdout",
     "output_type": "stream",
     "text": [
      "<class 'pandas.core.frame.DataFrame'>\n",
      "RangeIndex: 38611 entries, 0 to 38610\n",
      "Data columns (total 51 columns):\n",
      " #   Column                      Non-Null Count  Dtype  \n",
      "---  ------                      --------------  -----  \n",
      " 0   Make                        37745 non-null  object \n",
      " 1   Model                       37745 non-null  object \n",
      " 2   CC                          19067 non-null  object \n",
      " 3   Used since                  37745 non-null  float64\n",
      " 4   Km                          37745 non-null  object \n",
      " 5   Transmission                37745 non-null  object \n",
      " 6   City                        37745 non-null  object \n",
      " 7   Color                       37745 non-null  object \n",
      " 8   Body Style                  21285 non-null  object \n",
      " 9   Fuel                        37745 non-null  object \n",
      " 10  Leather seats               38611 non-null  bool   \n",
      " 11  Closing mirrors             38611 non-null  bool   \n",
      " 12  Intelligent parking system  38611 non-null  bool   \n",
      " 13  Sunroof                     38611 non-null  bool   \n",
      " 14  Fabric brushes              38611 non-null  bool   \n",
      " 15  Air Conditioning            38611 non-null  bool   \n",
      " 16  Power Steering              38611 non-null  bool   \n",
      " 17  Remote Keyless              38611 non-null  bool   \n",
      " 18  Electric mirrors            38611 non-null  bool   \n",
      " 19  Front Power Windows         38611 non-null  bool   \n",
      " 20  Back Power Windows          38611 non-null  bool   \n",
      " 21  Tinted Glass                38611 non-null  bool   \n",
      " 22  CD Player                   38611 non-null  bool   \n",
      " 23  DVD Player                  38611 non-null  bool   \n",
      " 24  Bluetooth                   38611 non-null  bool   \n",
      " 25  Multifunction               38611 non-null  bool   \n",
      " 26  Cassette Radio              38611 non-null  bool   \n",
      " 27  AUX                         38611 non-null  bool   \n",
      " 28  CD Changer                  38611 non-null  bool   \n",
      " 29  USB Port                    38611 non-null  bool   \n",
      " 30  Anti - theft System         38611 non-null  bool   \n",
      " 31  Side Airbag                 38611 non-null  bool   \n",
      " 32  ABS                         38611 non-null  bool   \n",
      " 33  EPS                         38611 non-null  bool   \n",
      " 34  EBD                         38611 non-null  bool   \n",
      " 35  ESP                         38611 non-null  bool   \n",
      " 36  Sensors                     38611 non-null  bool   \n",
      " 37  Rear sensors                38611 non-null  bool   \n",
      " 38  Driver Airbag               38611 non-null  bool   \n",
      " 39  Passenger Airbag            38611 non-null  bool   \n",
      " 40  Front sensors               38611 non-null  bool   \n",
      " 41  Alloy wheels                38611 non-null  bool   \n",
      " 42  Rear camera                 38611 non-null  bool   \n",
      " 43  GPS                         38611 non-null  bool   \n",
      " 44  Fog light                   38611 non-null  bool   \n",
      " 45  Rear spoiler                38611 non-null  bool   \n",
      " 46  Cruise control              38611 non-null  bool   \n",
      " 47  Power Seats                 38611 non-null  bool   \n",
      " 48  Central lock                38611 non-null  bool   \n",
      " 49  Alarm                       38611 non-null  bool   \n",
      " 50  Price                       37745 non-null  object \n",
      "dtypes: bool(40), float64(1), object(10)\n",
      "memory usage: 4.7+ MB\n"
     ]
    }
   ],
   "source": [
    "data.info()"
   ]
  },
  {
   "cell_type": "markdown",
   "metadata": {},
   "source": [
    "there are many null values in our dataset , we have 40 Boolean Column and 10 objects"
   ]
  },
  {
   "cell_type": "code",
   "execution_count": 8,
   "metadata": {},
   "outputs": [
    {
     "data": {
      "text/plain": [
       "Make                            866\n",
       "Model                           866\n",
       "CC                            19544\n",
       "Used since                      866\n",
       "Km                              866\n",
       "Transmission                    866\n",
       "City                            866\n",
       "Color                           866\n",
       "Body Style                    17326\n",
       "Fuel                            866\n",
       "Leather seats                     0\n",
       "Closing mirrors                   0\n",
       "Intelligent parking system        0\n",
       "Sunroof                           0\n",
       "Fabric brushes                    0\n",
       "Air Conditioning                  0\n",
       "Power Steering                    0\n",
       "Remote Keyless                    0\n",
       "Electric mirrors                  0\n",
       "Front Power Windows               0\n",
       "Back Power Windows                0\n",
       "Tinted Glass                      0\n",
       "CD Player                         0\n",
       "DVD Player                        0\n",
       "Bluetooth                         0\n",
       "Multifunction                     0\n",
       "Cassette Radio                    0\n",
       "AUX                               0\n",
       "CD Changer                        0\n",
       "USB Port                          0\n",
       "Anti - theft System               0\n",
       "Side Airbag                       0\n",
       "ABS                               0\n",
       "EPS                               0\n",
       "EBD                               0\n",
       "ESP                               0\n",
       "Sensors                           0\n",
       "Rear sensors                      0\n",
       "Driver Airbag                     0\n",
       "Passenger Airbag                  0\n",
       "Front sensors                     0\n",
       "Alloy wheels                      0\n",
       "Rear camera                       0\n",
       "GPS                               0\n",
       "Fog light                         0\n",
       "Rear spoiler                      0\n",
       "Cruise control                    0\n",
       "Power Seats                       0\n",
       "Central lock                      0\n",
       "Alarm                             0\n",
       "Price                           866\n",
       "dtype: int64"
      ]
     },
     "execution_count": 8,
     "metadata": {},
     "output_type": "execute_result"
    }
   ],
   "source": [
    "data.isnull().sum()"
   ]
  },
  {
   "cell_type": "markdown",
   "metadata": {},
   "source": [
    "we have 866 null values in price Columns , let's drop it"
   ]
  },
  {
   "cell_type": "code",
   "execution_count": 9,
   "metadata": {},
   "outputs": [],
   "source": [
    "data = data[data['Price'].notna()]"
   ]
  },
  {
   "cell_type": "code",
   "execution_count": 10,
   "metadata": {},
   "outputs": [
    {
     "data": {
      "text/plain": [
       "Make                              0\n",
       "Model                             0\n",
       "CC                            18678\n",
       "Used since                        0\n",
       "Km                                0\n",
       "Transmission                      0\n",
       "City                              0\n",
       "Color                             0\n",
       "Body Style                    16460\n",
       "Fuel                              0\n",
       "Leather seats                     0\n",
       "Closing mirrors                   0\n",
       "Intelligent parking system        0\n",
       "Sunroof                           0\n",
       "Fabric brushes                    0\n",
       "Air Conditioning                  0\n",
       "Power Steering                    0\n",
       "Remote Keyless                    0\n",
       "Electric mirrors                  0\n",
       "Front Power Windows               0\n",
       "Back Power Windows                0\n",
       "Tinted Glass                      0\n",
       "CD Player                         0\n",
       "DVD Player                        0\n",
       "Bluetooth                         0\n",
       "Multifunction                     0\n",
       "Cassette Radio                    0\n",
       "AUX                               0\n",
       "CD Changer                        0\n",
       "USB Port                          0\n",
       "Anti - theft System               0\n",
       "Side Airbag                       0\n",
       "ABS                               0\n",
       "EPS                               0\n",
       "EBD                               0\n",
       "ESP                               0\n",
       "Sensors                           0\n",
       "Rear sensors                      0\n",
       "Driver Airbag                     0\n",
       "Passenger Airbag                  0\n",
       "Front sensors                     0\n",
       "Alloy wheels                      0\n",
       "Rear camera                       0\n",
       "GPS                               0\n",
       "Fog light                         0\n",
       "Rear spoiler                      0\n",
       "Cruise control                    0\n",
       "Power Seats                       0\n",
       "Central lock                      0\n",
       "Alarm                             0\n",
       "Price                             0\n",
       "dtype: int64"
      ]
     },
     "execution_count": 10,
     "metadata": {},
     "output_type": "execute_result"
    }
   ],
   "source": [
    "# checking \n",
    "data.isnull().sum()"
   ]
  },
  {
   "cell_type": "code",
   "execution_count": 11,
   "metadata": {},
   "outputs": [],
   "source": [
    "def show_column_details(col):\n",
    "    global data\n",
    "    print(f'for feature {col} and it type is {data[col].dtype}')\n",
    "    print(f'Number of Nulls is {data[col].isna().sum()}')\n",
    "    print(f'Number of Unique Values is {len(data[col].unique())}')\n",
    "    print(f'Random Value is {data[col][np.random.randint(data.shape[0])]}')\n",
    "    print(f'Random Value is {data[col][np.random.randint(data.shape[0])]}')\n",
    "    print(f'Random Value is {data[col][np.random.randint(data.shape[0])]}')\n",
    "    print('\\n==================================')"
   ]
  },
  {
   "cell_type": "code",
   "execution_count": 12,
   "metadata": {},
   "outputs": [
    {
     "name": "stdout",
     "output_type": "stream",
     "text": [
      "for feature Make and it type is object\n",
      "Number of Nulls is 0\n",
      "Number of Unique Values is 90\n",
      "Random Value is Chrysler\n",
      "Random Value is Chevrolet\n",
      "Random Value is Daewoo\n",
      "\n",
      "==================================\n"
     ]
    }
   ],
   "source": [
    "show_column_details('Make')"
   ]
  },
  {
   "cell_type": "markdown",
   "metadata": {},
   "source": [
    "there are many categorical unique values in \"Make\" Columns therefore we will handle it using label encoder "
   ]
  },
  {
   "cell_type": "code",
   "execution_count": 13,
   "metadata": {},
   "outputs": [
    {
     "name": "stdout",
     "output_type": "stream",
     "text": [
      "for feature Model and it type is object\n",
      "Number of Nulls is 0\n",
      "Number of Unique Values is 857\n",
      "Random Value is Verna\n",
      "Random Value is Elantra\n",
      "Random Value is F3\n",
      "\n",
      "==================================\n"
     ]
    }
   ],
   "source": [
    "show_column_details('Model')"
   ]
  },
  {
   "cell_type": "code",
   "execution_count": 14,
   "metadata": {},
   "outputs": [
    {
     "name": "stdout",
     "output_type": "stream",
     "text": [
      "for feature CC and it type is object\n",
      "Number of Nulls is 18678\n",
      "Number of Unique Values is 107\n",
      "Random Value is nan\n",
      "Random Value is 1200 CC\n",
      "Random Value is 4000 CC\n",
      "\n",
      "==================================\n"
     ]
    }
   ],
   "source": [
    "show_column_details('CC')"
   ]
  },
  {
   "cell_type": "code",
   "execution_count": 15,
   "metadata": {},
   "outputs": [
    {
     "data": {
      "text/plain": [
       "array([nan, '1600 CC', '1400 CC', '2000 CC', '1500 CC', '1300 CC',\n",
       "       '1200 CC', '1000 CC', '1100 CC', '2500 CC', '3000 CC', '4400 CC',\n",
       "       '4700 CC', '2002 CC', '1800 CC', '900 CC', '4000 CC', '950 CC',\n",
       "       '3700 CC', '3500 CC', '800 CC', '2300 CC', '2700 CC', '2200 CC',\n",
       "       '3800 CC', '1989 CC', '3750 CC', '1399 CC', '3400 CC', '4100 CC',\n",
       "       '4800 CC', '3646 CC', '1250 CC', '2800 CC', '1398 CC', '4500 CC',\n",
       "       '3200 CC', '5700 CC', '2600 CC', '3600 CC', '2900 CC', '6000 CC',\n",
       "       '2400 CC', '5200 CC', '1599 CC', '1716 CC', '1116 CC', '1900 CC',\n",
       "       '2019 CC', '1998 CC', '4200 CC', '1999 CC', '1550 CC', '1323 CC',\n",
       "       '995 CC', '1598 CC', '1897 CC', '1489 CC', '3300 CC', '1992 CC',\n",
       "       '5600 CC', '3190 CC', '850 CC', '1139 CC', '2127 CC', '1295 CC',\n",
       "       '1700 CC', '5400 CC', '1490 CC', '970 CC', '5800 CC', '1050 CC',\n",
       "       '1850 CC', '1572 CC', '2609 CC', '4570 CC', '1970 CC', '1150 CC',\n",
       "       '5000 CC', '4600 CC', '1595 CC', '5900 CC', '2100 CC', '3100 CC',\n",
       "       '1350 CC', '3181 CC', '1993 CC', '1242 CC', '3797 CC', '1248 CC',\n",
       "       '1450 CC', '2750 CC', '999 CC', '1320 CC', '4300 CC', '1498 CC',\n",
       "       '1499 CC', '1360 CC', '1971 CC', '3450 CC', '1690 CC', '5300 CC',\n",
       "       '4571 CC', '1990 CC', '1570 CC', '1309 CC', '1330 CC'],\n",
       "      dtype=object)"
      ]
     },
     "execution_count": 15,
     "metadata": {},
     "output_type": "execute_result"
    }
   ],
   "source": [
    "data['CC'].unique()"
   ]
  },
  {
   "cell_type": "code",
   "execution_count": 16,
   "metadata": {},
   "outputs": [],
   "source": [
    "data['CC'].fillna(0 , inplace=True)"
   ]
  },
  {
   "cell_type": "code",
   "execution_count": 17,
   "metadata": {},
   "outputs": [],
   "source": [
    "data['CC'] = data['CC'].astype(str).apply(lambda x :x.replace('CC',\"\"))"
   ]
  },
  {
   "cell_type": "code",
   "execution_count": 18,
   "metadata": {},
   "outputs": [],
   "source": [
    "data['CC'] = data['CC'].astype(int)"
   ]
  },
  {
   "cell_type": "code",
   "execution_count": 19,
   "metadata": {},
   "outputs": [],
   "source": [
    "data['Is_CC'] = data['CC'].apply(lambda x:True if x != 0  else False)"
   ]
  },
  {
   "cell_type": "code",
   "execution_count": 20,
   "metadata": {},
   "outputs": [
    {
     "data": {
      "text/plain": [
       "True     19067\n",
       "False    18678\n",
       "Name: Is_CC, dtype: int64"
      ]
     },
     "execution_count": 20,
     "metadata": {},
     "output_type": "execute_result"
    }
   ],
   "source": [
    "data['Is_CC'].value_counts()"
   ]
  },
  {
   "cell_type": "code",
   "execution_count": 21,
   "metadata": {},
   "outputs": [
    {
     "name": "stdout",
     "output_type": "stream",
     "text": [
      "for feature Km and it type is object\n",
      "Number of Nulls is 0\n",
      "Number of Unique Values is 1032\n",
      "Random Value is 220,000 Km\n",
      "Random Value is 0 Km\n",
      "Random Value is 0 Km\n",
      "\n",
      "==================================\n"
     ]
    }
   ],
   "source": [
    "show_column_details('Km')"
   ]
  },
  {
   "cell_type": "code",
   "execution_count": 22,
   "metadata": {},
   "outputs": [
    {
     "data": {
      "text/plain": [
       "0 Km          7772\n",
       "200,000 Km    2485\n",
       "150,000 Km    1400\n",
       "100,000 Km     950\n",
       "130,000 Km     816\n",
       "              ... \n",
       "408,000 Km       1\n",
       "21,500 Km        1\n",
       "130,500 Km       1\n",
       "57,310 Km        1\n",
       "186,100 Km       1\n",
       "Name: Km, Length: 1032, dtype: int64"
      ]
     },
     "execution_count": 22,
     "metadata": {},
     "output_type": "execute_result"
    }
   ],
   "source": [
    "data['Km'].value_counts()"
   ]
  },
  {
   "cell_type": "code",
   "execution_count": 23,
   "metadata": {},
   "outputs": [],
   "source": [
    "def replaceList(reList,text):\n",
    "    for re in reList:\n",
    "        text = text.replace(re , '')\n",
    "    return int(text)\n",
    "    "
   ]
  },
  {
   "cell_type": "code",
   "execution_count": 24,
   "metadata": {},
   "outputs": [],
   "source": [
    "data['Km'] = data['Km'].astype(str).apply(lambda x :replaceList(['Km',','],x))"
   ]
  },
  {
   "cell_type": "code",
   "execution_count": 25,
   "metadata": {},
   "outputs": [
    {
     "name": "stdout",
     "output_type": "stream",
     "text": [
      "for feature Price and it type is object\n",
      "Number of Nulls is 0\n",
      "Number of Unique Values is 768\n",
      "Random Value is 275,000 EGP\n",
      "Random Value is 88,000 EGP\n",
      "Random Value is 155,000 EGP\n",
      "\n",
      "==================================\n"
     ]
    }
   ],
   "source": [
    "show_column_details('Price')"
   ]
  },
  {
   "cell_type": "code",
   "execution_count": 26,
   "metadata": {},
   "outputs": [],
   "source": [
    "data['Price']= data['Price'].astype(str).apply(lambda x :replaceList(['EGP',','],x))"
   ]
  },
  {
   "cell_type": "code",
   "execution_count": 27,
   "metadata": {},
   "outputs": [],
   "source": [
    "data['Used since'] = data['Used since'].astype(int)"
   ]
  },
  {
   "cell_type": "code",
   "execution_count": 28,
   "metadata": {},
   "outputs": [],
   "source": [
    "data['Price'] = data['Price'].astype(int)"
   ]
  },
  {
   "cell_type": "code",
   "execution_count": 29,
   "metadata": {},
   "outputs": [
    {
     "name": "stdout",
     "output_type": "stream",
     "text": [
      "for feature Transmission and it type is object\n",
      "Number of Nulls is 0\n",
      "Number of Unique Values is 4\n",
      "Random Value is automatic\n",
      "Random Value is automatic\n",
      "Random Value is manual\n",
      "\n",
      "==================================\n"
     ]
    }
   ],
   "source": [
    "show_column_details('Transmission')"
   ]
  },
  {
   "cell_type": "code",
   "execution_count": 30,
   "metadata": {},
   "outputs": [
    {
     "data": {
      "text/plain": [
       "manual       19403\n",
       "automatic    18108\n",
       "CVT            155\n",
       "DSG             79\n",
       "Name: Transmission, dtype: int64"
      ]
     },
     "execution_count": 30,
     "metadata": {},
     "output_type": "execute_result"
    }
   ],
   "source": [
    "data['Transmission'].value_counts()"
   ]
  },
  {
   "cell_type": "code",
   "execution_count": 31,
   "metadata": {},
   "outputs": [
    {
     "name": "stdout",
     "output_type": "stream",
     "text": [
      "for feature City and it type is object\n",
      "Number of Nulls is 0\n",
      "Number of Unique Values is 101\n",
      "Random Value is Cairo\n",
      "Random Value is Damietta\n",
      "Random Value is Alexandria\n",
      "\n",
      "==================================\n"
     ]
    }
   ],
   "source": [
    "show_column_details('City')"
   ]
  },
  {
   "cell_type": "code",
   "execution_count": 32,
   "metadata": {},
   "outputs": [
    {
     "name": "stdout",
     "output_type": "stream",
     "text": [
      "for feature Color and it type is object\n",
      "Number of Nulls is 0\n",
      "Number of Unique Values is 24\n",
      "Random Value is White\n",
      "Random Value is Beige\n",
      "Random Value is Gray\n",
      "\n",
      "==================================\n"
     ]
    }
   ],
   "source": [
    "show_column_details('Color')"
   ]
  },
  {
   "cell_type": "code",
   "execution_count": 33,
   "metadata": {},
   "outputs": [
    {
     "name": "stdout",
     "output_type": "stream",
     "text": [
      "for feature Body Style and it type is object\n",
      "Number of Nulls is 16460\n",
      "Number of Unique Values is 12\n",
      "Random Value is nan\n",
      "Random Value is nan\n",
      "Random Value is Sedan\n",
      "\n",
      "==================================\n"
     ]
    }
   ],
   "source": [
    "show_column_details('Body Style')"
   ]
  },
  {
   "cell_type": "code",
   "execution_count": 34,
   "metadata": {},
   "outputs": [],
   "source": [
    "data['Body Style'].fillna('None',inplace=True)"
   ]
  },
  {
   "cell_type": "code",
   "execution_count": 35,
   "metadata": {},
   "outputs": [
    {
     "data": {
      "text/plain": [
       "None                  16460\n",
       "Sedan                 14773\n",
       "Hatchback              3103\n",
       "4x4                    1422\n",
       "SUV                     552\n",
       "Van                     528\n",
       "MiniVans                401\n",
       "Pick up                 398\n",
       "Coupe                    73\n",
       "Microbus                 24\n",
       "Medium truck jumbo       10\n",
       "Mini Pick up              1\n",
       "Name: Body Style, dtype: int64"
      ]
     },
     "execution_count": 35,
     "metadata": {},
     "output_type": "execute_result"
    }
   ],
   "source": [
    "data['Body Style'].value_counts()"
   ]
  },
  {
   "cell_type": "code",
   "execution_count": 36,
   "metadata": {},
   "outputs": [
    {
     "name": "stdout",
     "output_type": "stream",
     "text": [
      "for feature Fuel and it type is object\n",
      "Number of Nulls is 0\n",
      "Number of Unique Values is 5\n",
      "Random Value is gas\n",
      "Random Value is gas\n",
      "Random Value is gas\n",
      "\n",
      "==================================\n"
     ]
    }
   ],
   "source": [
    "show_column_details('Fuel')"
   ]
  },
  {
   "cell_type": "code",
   "execution_count": 37,
   "metadata": {},
   "outputs": [
    {
     "data": {
      "text/plain": [
       "gas            37109\n",
       "diesel           281\n",
       "natural gas      266\n",
       "Hybrid            77\n",
       "Electric          12\n",
       "Name: Fuel, dtype: int64"
      ]
     },
     "execution_count": 37,
     "metadata": {},
     "output_type": "execute_result"
    }
   ],
   "source": [
    "data['Fuel'].value_counts()"
   ]
  },
  {
   "cell_type": "code",
   "execution_count": 38,
   "metadata": {},
   "outputs": [
    {
     "name": "stdout",
     "output_type": "stream",
     "text": [
      "<class 'pandas.core.frame.DataFrame'>\n",
      "Int64Index: 37745 entries, 0 to 37837\n",
      "Data columns (total 52 columns):\n",
      " #   Column                      Non-Null Count  Dtype \n",
      "---  ------                      --------------  ----- \n",
      " 0   Make                        37745 non-null  object\n",
      " 1   Model                       37745 non-null  object\n",
      " 2   CC                          37745 non-null  int32 \n",
      " 3   Used since                  37745 non-null  int32 \n",
      " 4   Km                          37745 non-null  int64 \n",
      " 5   Transmission                37745 non-null  object\n",
      " 6   City                        37745 non-null  object\n",
      " 7   Color                       37745 non-null  object\n",
      " 8   Body Style                  37745 non-null  object\n",
      " 9   Fuel                        37745 non-null  object\n",
      " 10  Leather seats               37745 non-null  bool  \n",
      " 11  Closing mirrors             37745 non-null  bool  \n",
      " 12  Intelligent parking system  37745 non-null  bool  \n",
      " 13  Sunroof                     37745 non-null  bool  \n",
      " 14  Fabric brushes              37745 non-null  bool  \n",
      " 15  Air Conditioning            37745 non-null  bool  \n",
      " 16  Power Steering              37745 non-null  bool  \n",
      " 17  Remote Keyless              37745 non-null  bool  \n",
      " 18  Electric mirrors            37745 non-null  bool  \n",
      " 19  Front Power Windows         37745 non-null  bool  \n",
      " 20  Back Power Windows          37745 non-null  bool  \n",
      " 21  Tinted Glass                37745 non-null  bool  \n",
      " 22  CD Player                   37745 non-null  bool  \n",
      " 23  DVD Player                  37745 non-null  bool  \n",
      " 24  Bluetooth                   37745 non-null  bool  \n",
      " 25  Multifunction               37745 non-null  bool  \n",
      " 26  Cassette Radio              37745 non-null  bool  \n",
      " 27  AUX                         37745 non-null  bool  \n",
      " 28  CD Changer                  37745 non-null  bool  \n",
      " 29  USB Port                    37745 non-null  bool  \n",
      " 30  Anti - theft System         37745 non-null  bool  \n",
      " 31  Side Airbag                 37745 non-null  bool  \n",
      " 32  ABS                         37745 non-null  bool  \n",
      " 33  EPS                         37745 non-null  bool  \n",
      " 34  EBD                         37745 non-null  bool  \n",
      " 35  ESP                         37745 non-null  bool  \n",
      " 36  Sensors                     37745 non-null  bool  \n",
      " 37  Rear sensors                37745 non-null  bool  \n",
      " 38  Driver Airbag               37745 non-null  bool  \n",
      " 39  Passenger Airbag            37745 non-null  bool  \n",
      " 40  Front sensors               37745 non-null  bool  \n",
      " 41  Alloy wheels                37745 non-null  bool  \n",
      " 42  Rear camera                 37745 non-null  bool  \n",
      " 43  GPS                         37745 non-null  bool  \n",
      " 44  Fog light                   37745 non-null  bool  \n",
      " 45  Rear spoiler                37745 non-null  bool  \n",
      " 46  Cruise control              37745 non-null  bool  \n",
      " 47  Power Seats                 37745 non-null  bool  \n",
      " 48  Central lock                37745 non-null  bool  \n",
      " 49  Alarm                       37745 non-null  bool  \n",
      " 50  Price                       37745 non-null  int32 \n",
      " 51  Is_CC                       37745 non-null  bool  \n",
      "dtypes: bool(41), int32(3), int64(1), object(7)\n",
      "memory usage: 5.7+ MB\n"
     ]
    }
   ],
   "source": [
    "data.info()"
   ]
  },
  {
   "cell_type": "markdown",
   "metadata": {},
   "source": [
    "### Handling Boolean Values "
   ]
  },
  {
   "cell_type": "code",
   "execution_count": 41,
   "metadata": {},
   "outputs": [
    {
     "data": {
      "text/plain": [
       "41"
      ]
     },
     "execution_count": 41,
     "metadata": {},
     "output_type": "execute_result"
    }
   ],
   "source": [
    "bool_columns = [col for col in data.columns if data[col].dtype == bool] \n",
    "len(bool_columns)"
   ]
  },
  {
   "cell_type": "code",
   "execution_count": 42,
   "metadata": {},
   "outputs": [],
   "source": [
    "for col in bool_columns:\n",
    "    data[col] = data[col].apply(lambda x : 1 if x == True else 0)"
   ]
  },
  {
   "cell_type": "code",
   "execution_count": 43,
   "metadata": {},
   "outputs": [
    {
     "name": "stdout",
     "output_type": "stream",
     "text": [
      "<class 'pandas.core.frame.DataFrame'>\n",
      "Int64Index: 37745 entries, 0 to 37837\n",
      "Data columns (total 52 columns):\n",
      " #   Column                      Non-Null Count  Dtype \n",
      "---  ------                      --------------  ----- \n",
      " 0   Make                        37745 non-null  object\n",
      " 1   Model                       37745 non-null  object\n",
      " 2   CC                          37745 non-null  int32 \n",
      " 3   Used since                  37745 non-null  int32 \n",
      " 4   Km                          37745 non-null  int64 \n",
      " 5   Transmission                37745 non-null  object\n",
      " 6   City                        37745 non-null  object\n",
      " 7   Color                       37745 non-null  object\n",
      " 8   Body Style                  37745 non-null  object\n",
      " 9   Fuel                        37745 non-null  object\n",
      " 10  Leather seats               37745 non-null  int64 \n",
      " 11  Closing mirrors             37745 non-null  int64 \n",
      " 12  Intelligent parking system  37745 non-null  int64 \n",
      " 13  Sunroof                     37745 non-null  int64 \n",
      " 14  Fabric brushes              37745 non-null  int64 \n",
      " 15  Air Conditioning            37745 non-null  int64 \n",
      " 16  Power Steering              37745 non-null  int64 \n",
      " 17  Remote Keyless              37745 non-null  int64 \n",
      " 18  Electric mirrors            37745 non-null  int64 \n",
      " 19  Front Power Windows         37745 non-null  int64 \n",
      " 20  Back Power Windows          37745 non-null  int64 \n",
      " 21  Tinted Glass                37745 non-null  int64 \n",
      " 22  CD Player                   37745 non-null  int64 \n",
      " 23  DVD Player                  37745 non-null  int64 \n",
      " 24  Bluetooth                   37745 non-null  int64 \n",
      " 25  Multifunction               37745 non-null  int64 \n",
      " 26  Cassette Radio              37745 non-null  int64 \n",
      " 27  AUX                         37745 non-null  int64 \n",
      " 28  CD Changer                  37745 non-null  int64 \n",
      " 29  USB Port                    37745 non-null  int64 \n",
      " 30  Anti - theft System         37745 non-null  int64 \n",
      " 31  Side Airbag                 37745 non-null  int64 \n",
      " 32  ABS                         37745 non-null  int64 \n",
      " 33  EPS                         37745 non-null  int64 \n",
      " 34  EBD                         37745 non-null  int64 \n",
      " 35  ESP                         37745 non-null  int64 \n",
      " 36  Sensors                     37745 non-null  int64 \n",
      " 37  Rear sensors                37745 non-null  int64 \n",
      " 38  Driver Airbag               37745 non-null  int64 \n",
      " 39  Passenger Airbag            37745 non-null  int64 \n",
      " 40  Front sensors               37745 non-null  int64 \n",
      " 41  Alloy wheels                37745 non-null  int64 \n",
      " 42  Rear camera                 37745 non-null  int64 \n",
      " 43  GPS                         37745 non-null  int64 \n",
      " 44  Fog light                   37745 non-null  int64 \n",
      " 45  Rear spoiler                37745 non-null  int64 \n",
      " 46  Cruise control              37745 non-null  int64 \n",
      " 47  Power Seats                 37745 non-null  int64 \n",
      " 48  Central lock                37745 non-null  int64 \n",
      " 49  Alarm                       37745 non-null  int64 \n",
      " 50  Price                       37745 non-null  int32 \n",
      " 51  Is_CC                       37745 non-null  int64 \n",
      "dtypes: int32(3), int64(42), object(7)\n",
      "memory usage: 16.1+ MB\n"
     ]
    }
   ],
   "source": [
    "data.info()"
   ]
  },
  {
   "cell_type": "code",
   "execution_count": 44,
   "metadata": {},
   "outputs": [],
   "source": [
    "data.to_csv('_final_processed.csv',index=False)"
   ]
  },
  {
   "cell_type": "code",
   "execution_count": null,
   "metadata": {},
   "outputs": [],
   "source": []
  },
  {
   "cell_type": "code",
   "execution_count": null,
   "metadata": {},
   "outputs": [],
   "source": []
  }
 ],
 "metadata": {
  "kernelspec": {
   "display_name": "Python 3",
   "language": "python",
   "name": "python3"
  },
  "language_info": {
   "codemirror_mode": {
    "name": "ipython",
    "version": 3
   },
   "file_extension": ".py",
   "mimetype": "text/x-python",
   "name": "python",
   "nbconvert_exporter": "python",
   "pygments_lexer": "ipython3",
   "version": "3.7.6"
  }
 },
 "nbformat": 4,
 "nbformat_minor": 4
}
