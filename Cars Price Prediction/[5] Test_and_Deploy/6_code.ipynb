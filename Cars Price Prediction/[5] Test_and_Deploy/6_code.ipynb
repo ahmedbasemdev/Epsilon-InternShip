{
 "cells": [
  {
   "cell_type": "code",
   "execution_count": 79,
   "metadata": {},
   "outputs": [],
   "source": [
    "import numpy as np\n",
    "import pandas as pd\n",
    "import joblib"
   ]
  },
  {
   "cell_type": "code",
   "execution_count": 91,
   "metadata": {},
   "outputs": [],
   "source": [
    "model = joblib.load('model.h5')"
   ]
  },
  {
   "cell_type": "code",
   "execution_count": 92,
   "metadata": {},
   "outputs": [],
   "source": [
    "columns = ['Make', 'Model', 'CC', 'Used since', 'Km', 'Transmission', 'City',\n",
    "       'Color', 'Body Style', 'Fuel', 'Leather seats', 'Closing mirrors',\n",
    "       'Intelligent parking system', 'Sunroof', 'Fabric brushes',\n",
    "       'Air Conditioning', 'Power Steering', 'Remote Keyless',\n",
    "       'Electric mirrors', 'Front Power Windows', 'Back Power Windows',\n",
    "       'Tinted Glass', 'CD Player', 'DVD Player', 'Bluetooth', 'Multifunction',\n",
    "       'Cassette Radio', 'AUX', 'CD Changer', 'USB Port',\n",
    "       'Anti - theft System', 'Side Airbag', 'ABS', 'EPS', 'EBD', 'ESP',\n",
    "       'Sensors', 'Rear sensors', 'Driver Airbag', 'Passenger Airbag',\n",
    "       'Front sensors', 'Alloy wheels', 'Rear camera', 'GPS', 'Fog light',\n",
    "       'Rear spoiler', 'Cruise control', 'Power Seats', 'Central lock',\n",
    "       'Alarm', 'Is_CC']"
   ]
  },
  {
   "cell_type": "code",
   "execution_count": 93,
   "metadata": {},
   "outputs": [],
   "source": [
    "# custom_data = []\n",
    "# for col in columns:\n",
    "#     print(f'{col}: ')\n",
    "#     val = input()\n",
    "#     custom_data.append(val)"
   ]
  },
  {
   "cell_type": "code",
   "execution_count": 94,
   "metadata": {},
   "outputs": [],
   "source": [
    "\n",
    "custom_data = ['Skoda', 'Rapid', 1600, 2014, 89000, 'automatic', 'Nasr city',\n",
    "       'Black', 'None', 'gas', False, False, False, False, True, True,\n",
    "       True, True, True, True, True, False, True, False, False, True,\n",
    "       False, True, False, False, False, True, True, False, False, False,\n",
    "       False, False, True, True, False, False, False, False, True, False,\n",
    "       False, True, True, True, False]\n"
   ]
  },
  {
   "cell_type": "code",
   "execution_count": 95,
   "metadata": {},
   "outputs": [
    {
     "data": {
      "text/plain": [
       "{'Make': 'Skoda',\n",
       " 'Model': 'Rapid',\n",
       " 'CC': 1600,\n",
       " 'Used since': 2014,\n",
       " 'Km': 89000,\n",
       " 'Transmission': 'automatic',\n",
       " 'City': 'Nasr city',\n",
       " 'Color': 'Black',\n",
       " 'Body Style': 'None',\n",
       " 'Fuel': 'gas',\n",
       " 'Leather seats': 0,\n",
       " 'Closing mirrors': 0,\n",
       " 'Intelligent parking system': 0,\n",
       " 'Sunroof': 0,\n",
       " 'Fabric brushes': 1,\n",
       " 'Air Conditioning': 1,\n",
       " 'Power Steering': 1,\n",
       " 'Remote Keyless': 1,\n",
       " 'Electric mirrors': 1,\n",
       " 'Front Power Windows': 1,\n",
       " 'Back Power Windows': 1,\n",
       " 'Tinted Glass': 0,\n",
       " 'CD Player': 1,\n",
       " 'DVD Player': 0,\n",
       " 'Bluetooth': 0,\n",
       " 'Multifunction': 1,\n",
       " 'Cassette Radio': 0,\n",
       " 'AUX': 1,\n",
       " 'CD Changer': 0,\n",
       " 'USB Port': 0,\n",
       " 'Anti - theft System': 0,\n",
       " 'Side Airbag': 1,\n",
       " 'ABS': 1,\n",
       " 'EPS': 0,\n",
       " 'EBD': 0,\n",
       " 'ESP': 0,\n",
       " 'Sensors': 0,\n",
       " 'Rear sensors': 0,\n",
       " 'Driver Airbag': 1,\n",
       " 'Passenger Airbag': 1,\n",
       " 'Front sensors': 0,\n",
       " 'Alloy wheels': 0,\n",
       " 'Rear camera': 0,\n",
       " 'GPS': 0,\n",
       " 'Fog light': 1,\n",
       " 'Rear spoiler': 0,\n",
       " 'Cruise control': 0,\n",
       " 'Power Seats': 1,\n",
       " 'Central lock': 1,\n",
       " 'Alarm': 1,\n",
       " 'Is_CC': 0}"
      ]
     },
     "execution_count": 95,
     "metadata": {},
     "output_type": "execute_result"
    }
   ],
   "source": [
    "dic = {}\n",
    "for key, value in zip(columns,custom_data):\n",
    "    if value == True :\n",
    "        dic[key] = 1\n",
    "    elif value == False:\n",
    "        dic[key] = 0\n",
    "    else:\n",
    "        dic[key] = value\n",
    "dic"
   ]
  },
  {
   "cell_type": "code",
   "execution_count": 96,
   "metadata": {},
   "outputs": [
    {
     "data": {
      "text/html": [
       "<div>\n",
       "<style scoped>\n",
       "    .dataframe tbody tr th:only-of-type {\n",
       "        vertical-align: middle;\n",
       "    }\n",
       "\n",
       "    .dataframe tbody tr th {\n",
       "        vertical-align: top;\n",
       "    }\n",
       "\n",
       "    .dataframe thead th {\n",
       "        text-align: right;\n",
       "    }\n",
       "</style>\n",
       "<table border=\"1\" class=\"dataframe\">\n",
       "  <thead>\n",
       "    <tr style=\"text-align: right;\">\n",
       "      <th></th>\n",
       "      <th>Make</th>\n",
       "      <th>Model</th>\n",
       "      <th>CC</th>\n",
       "      <th>Used since</th>\n",
       "      <th>Km</th>\n",
       "      <th>Transmission</th>\n",
       "      <th>City</th>\n",
       "      <th>Color</th>\n",
       "      <th>Body Style</th>\n",
       "      <th>Fuel</th>\n",
       "      <th>...</th>\n",
       "      <th>Alloy wheels</th>\n",
       "      <th>Rear camera</th>\n",
       "      <th>GPS</th>\n",
       "      <th>Fog light</th>\n",
       "      <th>Rear spoiler</th>\n",
       "      <th>Cruise control</th>\n",
       "      <th>Power Seats</th>\n",
       "      <th>Central lock</th>\n",
       "      <th>Alarm</th>\n",
       "      <th>Is_CC</th>\n",
       "    </tr>\n",
       "  </thead>\n",
       "  <tbody>\n",
       "    <tr>\n",
       "      <th>0</th>\n",
       "      <td>Skoda</td>\n",
       "      <td>Rapid</td>\n",
       "      <td>1600</td>\n",
       "      <td>2014</td>\n",
       "      <td>89000</td>\n",
       "      <td>automatic</td>\n",
       "      <td>Nasr city</td>\n",
       "      <td>Black</td>\n",
       "      <td>None</td>\n",
       "      <td>gas</td>\n",
       "      <td>...</td>\n",
       "      <td>0</td>\n",
       "      <td>0</td>\n",
       "      <td>0</td>\n",
       "      <td>1</td>\n",
       "      <td>0</td>\n",
       "      <td>0</td>\n",
       "      <td>1</td>\n",
       "      <td>1</td>\n",
       "      <td>1</td>\n",
       "      <td>0</td>\n",
       "    </tr>\n",
       "  </tbody>\n",
       "</table>\n",
       "<p>1 rows × 51 columns</p>\n",
       "</div>"
      ],
      "text/plain": [
       "    Make  Model    CC Used since     Km Transmission       City  Color  \\\n",
       "0  Skoda  Rapid  1600       2014  89000    automatic  Nasr city  Black   \n",
       "\n",
       "  Body Style Fuel  ... Alloy wheels Rear camera GPS Fog light Rear spoiler  \\\n",
       "0       None  gas  ...            0           0   0         1            0   \n",
       "\n",
       "  Cruise control Power Seats Central lock Alarm Is_CC  \n",
       "0              0           1            1     1     0  \n",
       "\n",
       "[1 rows x 51 columns]"
      ]
     },
     "execution_count": 96,
     "metadata": {},
     "output_type": "execute_result"
    }
   ],
   "source": [
    "custom_data = pd.DataFrame().from_dict(dic,orient='index')\n",
    "custom_data = custom_data.T\n",
    "custom_data"
   ]
  },
  {
   "cell_type": "code",
   "execution_count": 88,
   "metadata": {},
   "outputs": [
    {
     "data": {
      "text/plain": [
       "array([282963.16], dtype=float32)"
      ]
     },
     "execution_count": 88,
     "metadata": {},
     "output_type": "execute_result"
    }
   ],
   "source": [
    "result = model.predict(custom_data)\n",
    "result"
   ]
  },
  {
   "cell_type": "code",
   "execution_count": 89,
   "metadata": {},
   "outputs": [
    {
     "data": {
      "text/plain": [
       "282963.0"
      ]
     },
     "execution_count": 89,
     "metadata": {},
     "output_type": "execute_result"
    }
   ],
   "source": [
    "round(result[0])"
   ]
  },
  {
   "cell_type": "code",
   "execution_count": null,
   "metadata": {},
   "outputs": [],
   "source": []
  }
 ],
 "metadata": {
  "kernelspec": {
   "display_name": "Python 3",
   "language": "python",
   "name": "python3"
  },
  "language_info": {
   "codemirror_mode": {
    "name": "ipython",
    "version": 3
   },
   "file_extension": ".py",
   "mimetype": "text/x-python",
   "name": "python",
   "nbconvert_exporter": "python",
   "pygments_lexer": "ipython3",
   "version": "3.7.6"
  }
 },
 "nbformat": 4,
 "nbformat_minor": 4
}
