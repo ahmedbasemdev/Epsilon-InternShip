{
 "cells": [
  {
   "cell_type": "code",
   "execution_count": 193,
   "metadata": {},
   "outputs": [],
   "source": [
    "import pandas as pd\n",
    "import numpy as np\n",
    "from sklearn.model_selection import train_test_split\n",
    "from sklearn.ensemble import RandomForestRegressor\n",
    "from sklearn.preprocessing import LabelEncoder\n",
    "from sklearn.preprocessing import StandardScaler\n",
    "from sklearn.pipeline import Pipeline\n",
    "from sklearn.compose import ColumnTransformer\n",
    "from sklearn.preprocessing import OneHotEncoder\n",
    "from sklearn.preprocessing import OrdinalEncoder\n",
    "import os\n",
    "import joblib"
   ]
  },
  {
   "cell_type": "code",
   "execution_count": 194,
   "metadata": {},
   "outputs": [
    {
     "name": "stdout",
     "output_type": "stream",
     "text": [
      "H:\\Projects\\Epsilon InternShip\\Cars Price Prediction\\[3] Data_Preprocessing\\_final_processed.csv\n"
     ]
    }
   ],
   "source": [
    "originalPath = os.path.normpath(os.getcwd() + os.sep + os.pardir)\n",
    "path = originalPath + \"\\[3] Data_Preprocessing\" + \"\\_final_processed.csv\"\n",
    "print(path)"
   ]
  },
  {
   "cell_type": "code",
   "execution_count": 195,
   "metadata": {},
   "outputs": [
    {
     "data": {
      "text/html": [
       "<div>\n",
       "<style scoped>\n",
       "    .dataframe tbody tr th:only-of-type {\n",
       "        vertical-align: middle;\n",
       "    }\n",
       "\n",
       "    .dataframe tbody tr th {\n",
       "        vertical-align: top;\n",
       "    }\n",
       "\n",
       "    .dataframe thead th {\n",
       "        text-align: right;\n",
       "    }\n",
       "</style>\n",
       "<table border=\"1\" class=\"dataframe\">\n",
       "  <thead>\n",
       "    <tr style=\"text-align: right;\">\n",
       "      <th></th>\n",
       "      <th>Make</th>\n",
       "      <th>Model</th>\n",
       "      <th>CC</th>\n",
       "      <th>Used since</th>\n",
       "      <th>Km</th>\n",
       "      <th>Transmission</th>\n",
       "      <th>City</th>\n",
       "      <th>Color</th>\n",
       "      <th>Body Style</th>\n",
       "      <th>Fuel</th>\n",
       "      <th>...</th>\n",
       "      <th>Rear camera</th>\n",
       "      <th>GPS</th>\n",
       "      <th>Fog light</th>\n",
       "      <th>Rear spoiler</th>\n",
       "      <th>Cruise control</th>\n",
       "      <th>Power Seats</th>\n",
       "      <th>Central lock</th>\n",
       "      <th>Alarm</th>\n",
       "      <th>Price</th>\n",
       "      <th>Is_CC</th>\n",
       "    </tr>\n",
       "  </thead>\n",
       "  <tbody>\n",
       "    <tr>\n",
       "      <th>0</th>\n",
       "      <td>Skoda</td>\n",
       "      <td>Rapid</td>\n",
       "      <td>0</td>\n",
       "      <td>2014</td>\n",
       "      <td>89000</td>\n",
       "      <td>automatic</td>\n",
       "      <td>Nasr city</td>\n",
       "      <td>Black</td>\n",
       "      <td>None</td>\n",
       "      <td>gas</td>\n",
       "      <td>...</td>\n",
       "      <td>0</td>\n",
       "      <td>0</td>\n",
       "      <td>1</td>\n",
       "      <td>0</td>\n",
       "      <td>0</td>\n",
       "      <td>1</td>\n",
       "      <td>1</td>\n",
       "      <td>1</td>\n",
       "      <td>225000</td>\n",
       "      <td>0</td>\n",
       "    </tr>\n",
       "    <tr>\n",
       "      <th>1</th>\n",
       "      <td>Skoda</td>\n",
       "      <td>Octavia A7</td>\n",
       "      <td>0</td>\n",
       "      <td>2015</td>\n",
       "      <td>120000</td>\n",
       "      <td>automatic</td>\n",
       "      <td>Cairo</td>\n",
       "      <td>Blue</td>\n",
       "      <td>None</td>\n",
       "      <td>gas</td>\n",
       "      <td>...</td>\n",
       "      <td>1</td>\n",
       "      <td>1</td>\n",
       "      <td>1</td>\n",
       "      <td>1</td>\n",
       "      <td>1</td>\n",
       "      <td>1</td>\n",
       "      <td>1</td>\n",
       "      <td>1</td>\n",
       "      <td>295000</td>\n",
       "      <td>0</td>\n",
       "    </tr>\n",
       "    <tr>\n",
       "      <th>2</th>\n",
       "      <td>Renault</td>\n",
       "      <td>Sandero</td>\n",
       "      <td>0</td>\n",
       "      <td>2016</td>\n",
       "      <td>70000</td>\n",
       "      <td>automatic</td>\n",
       "      <td>El Haram</td>\n",
       "      <td>Red</td>\n",
       "      <td>None</td>\n",
       "      <td>gas</td>\n",
       "      <td>...</td>\n",
       "      <td>0</td>\n",
       "      <td>0</td>\n",
       "      <td>0</td>\n",
       "      <td>0</td>\n",
       "      <td>0</td>\n",
       "      <td>0</td>\n",
       "      <td>0</td>\n",
       "      <td>0</td>\n",
       "      <td>200000</td>\n",
       "      <td>0</td>\n",
       "    </tr>\n",
       "    <tr>\n",
       "      <th>3</th>\n",
       "      <td>MG</td>\n",
       "      <td>ZS</td>\n",
       "      <td>0</td>\n",
       "      <td>2020</td>\n",
       "      <td>21000</td>\n",
       "      <td>automatic</td>\n",
       "      <td>El Haram</td>\n",
       "      <td>Red</td>\n",
       "      <td>None</td>\n",
       "      <td>gas</td>\n",
       "      <td>...</td>\n",
       "      <td>0</td>\n",
       "      <td>1</td>\n",
       "      <td>1</td>\n",
       "      <td>0</td>\n",
       "      <td>1</td>\n",
       "      <td>1</td>\n",
       "      <td>1</td>\n",
       "      <td>1</td>\n",
       "      <td>360000</td>\n",
       "      <td>0</td>\n",
       "    </tr>\n",
       "    <tr>\n",
       "      <th>4</th>\n",
       "      <td>MG</td>\n",
       "      <td>5</td>\n",
       "      <td>0</td>\n",
       "      <td>2021</td>\n",
       "      <td>28000</td>\n",
       "      <td>automatic</td>\n",
       "      <td>El Haram</td>\n",
       "      <td>Red</td>\n",
       "      <td>None</td>\n",
       "      <td>gas</td>\n",
       "      <td>...</td>\n",
       "      <td>0</td>\n",
       "      <td>0</td>\n",
       "      <td>1</td>\n",
       "      <td>0</td>\n",
       "      <td>0</td>\n",
       "      <td>1</td>\n",
       "      <td>0</td>\n",
       "      <td>1</td>\n",
       "      <td>340000</td>\n",
       "      <td>0</td>\n",
       "    </tr>\n",
       "  </tbody>\n",
       "</table>\n",
       "<p>5 rows × 52 columns</p>\n",
       "</div>"
      ],
      "text/plain": [
       "      Make       Model  CC  Used since      Km Transmission       City  Color  \\\n",
       "0    Skoda       Rapid   0        2014   89000    automatic  Nasr city  Black   \n",
       "1    Skoda  Octavia A7   0        2015  120000    automatic      Cairo   Blue   \n",
       "2  Renault     Sandero   0        2016   70000    automatic   El Haram    Red   \n",
       "3       MG          ZS   0        2020   21000    automatic   El Haram    Red   \n",
       "4       MG           5   0        2021   28000    automatic   El Haram    Red   \n",
       "\n",
       "  Body Style Fuel  ...  Rear camera  GPS  Fog light  Rear spoiler  \\\n",
       "0       None  gas  ...            0    0          1             0   \n",
       "1       None  gas  ...            1    1          1             1   \n",
       "2       None  gas  ...            0    0          0             0   \n",
       "3       None  gas  ...            0    1          1             0   \n",
       "4       None  gas  ...            0    0          1             0   \n",
       "\n",
       "   Cruise control  Power Seats  Central lock  Alarm   Price  Is_CC  \n",
       "0               0            1             1      1  225000      0  \n",
       "1               1            1             1      1  295000      0  \n",
       "2               0            0             0      0  200000      0  \n",
       "3               1            1             1      1  360000      0  \n",
       "4               0            1             0      1  340000      0  \n",
       "\n",
       "[5 rows x 52 columns]"
      ]
     },
     "execution_count": 195,
     "metadata": {},
     "output_type": "execute_result"
    }
   ],
   "source": [
    "data = pd.read_csv(path,encoding='latin-1')\n",
    "data.head()"
   ]
  },
  {
   "cell_type": "code",
   "execution_count": 196,
   "metadata": {},
   "outputs": [],
   "source": [
    "X = data.drop('Price',axis = 1)\n",
    "Y= data['Price']"
   ]
  },
  {
   "cell_type": "code",
   "execution_count": 197,
   "metadata": {},
   "outputs": [
    {
     "data": {
      "text/plain": [
       "['Make', 'Model', 'Transmission', 'City', 'Color', 'Body Style', 'Fuel']"
      ]
     },
     "execution_count": 197,
     "metadata": {},
     "output_type": "execute_result"
    }
   ],
   "source": [
    "categorical_columns = [col for col in data.columns if data[col].dtype == \"O\"]\n",
    "categorical_columns"
   ]
  },
  {
   "cell_type": "code",
   "execution_count": 198,
   "metadata": {},
   "outputs": [
    {
     "data": {
      "text/plain": [
       "['CC',\n",
       " 'Used since',\n",
       " 'Km',\n",
       " 'Leather seats',\n",
       " 'Closing mirrors',\n",
       " 'Intelligent parking system',\n",
       " 'Sunroof',\n",
       " 'Fabric brushes',\n",
       " 'Air Conditioning',\n",
       " 'Power Steering',\n",
       " 'Remote Keyless',\n",
       " 'Electric mirrors',\n",
       " 'Front Power Windows',\n",
       " 'Back Power Windows',\n",
       " 'Tinted Glass',\n",
       " 'CD Player',\n",
       " 'DVD Player',\n",
       " 'Bluetooth',\n",
       " 'Multifunction',\n",
       " 'Cassette Radio',\n",
       " 'AUX',\n",
       " 'CD Changer',\n",
       " 'USB Port',\n",
       " 'Anti - theft System',\n",
       " 'Side Airbag',\n",
       " 'ABS',\n",
       " 'EPS',\n",
       " 'EBD',\n",
       " 'ESP',\n",
       " 'Sensors',\n",
       " 'Rear sensors',\n",
       " 'Driver Airbag',\n",
       " 'Passenger Airbag',\n",
       " 'Front sensors',\n",
       " 'Alloy wheels',\n",
       " 'Rear camera',\n",
       " 'GPS',\n",
       " 'Fog light',\n",
       " 'Rear spoiler',\n",
       " 'Cruise control',\n",
       " 'Power Seats',\n",
       " 'Central lock',\n",
       " 'Alarm',\n",
       " 'Is_CC']"
      ]
     },
     "execution_count": 198,
     "metadata": {},
     "output_type": "execute_result"
    }
   ],
   "source": [
    "numerical_columns = [col for col in X.columns if X[col].dtype == \"int64\"]\n",
    "numerical_columns"
   ]
  },
  {
   "cell_type": "code",
   "execution_count": 199,
   "metadata": {},
   "outputs": [],
   "source": [
    "processed_pipeLine = ColumnTransformer([\n",
    "    ('categorical',OneHotEncoder(handle_unknown='ignore'),categorical_columns),\n",
    "    ('num',StandardScaler(),numerical_columns)\n",
    "])"
   ]
  },
  {
   "cell_type": "code",
   "execution_count": 200,
   "metadata": {},
   "outputs": [],
   "source": [
    "# X = full_pipeLine.fit_transform(X)"
   ]
  },
  {
   "cell_type": "code",
   "execution_count": 201,
   "metadata": {},
   "outputs": [],
   "source": [
    "# X.shape"
   ]
  },
  {
   "cell_type": "code",
   "execution_count": 202,
   "metadata": {},
   "outputs": [],
   "source": [
    "X_train , X_test , y_train , y_test = train_test_split(X,Y , test_size=0.2 , random_state=42 )"
   ]
  },
  {
   "cell_type": "code",
   "execution_count": 203,
   "metadata": {},
   "outputs": [],
   "source": [
    "from sklearn.linear_model import LinearRegression\n",
    "from sklearn.neighbors import KNeighborsRegressor\n",
    "from sklearn.svm import SVR\n",
    "from sklearn.tree import DecisionTreeRegressor\n",
    "from sklearn.ensemble import RandomForestRegressor\n",
    "from xgboost import XGBRegressor"
   ]
  },
  {
   "cell_type": "code",
   "execution_count": 204,
   "metadata": {},
   "outputs": [],
   "source": [
    "models = {\n",
    "    \"LR\": LinearRegression(),\n",
    "    \"KNNR\" : KNeighborsRegressor(), \n",
    "    \"SVR\": SVR(),\n",
    "    \"DT\": DecisionTreeRegressor(),\n",
    "    \"RF\": RandomForestRegressor(),\n",
    "    \"XGBR\": XGBRegressor()\n",
    "}"
   ]
  },
  {
   "cell_type": "code",
   "execution_count": 205,
   "metadata": {},
   "outputs": [],
   "source": [
    "from sklearn.metrics import mean_squared_error"
   ]
  },
  {
   "cell_type": "code",
   "execution_count": 206,
   "metadata": {},
   "outputs": [],
   "source": [
    "# for name, model in models.items():\n",
    "#     print(f'Using model: {name}')\n",
    "#     model.fit(X_train, y_train)\n",
    "#     print(f'Training Score: {model.score(X_train, y_train)}')\n",
    "#     print(f'Test Score: {model.score(X_test, y_test)}')  \n",
    "#     print(f'RMSE: {np.sqrt(mean_squared_error(y_test, model.predict(X_test)))}')\n",
    "#     print('-'*30)"
   ]
  },
  {
   "cell_type": "code",
   "execution_count": 207,
   "metadata": {},
   "outputs": [
    {
     "data": {
      "text/plain": [
       "Pipeline(memory=None,\n",
       "         steps=[('processed',\n",
       "                 ColumnTransformer(n_jobs=None, remainder='drop',\n",
       "                                   sparse_threshold=0.3,\n",
       "                                   transformer_weights=None,\n",
       "                                   transformers=[('categorical',\n",
       "                                                  OneHotEncoder(categories='auto',\n",
       "                                                                drop=None,\n",
       "                                                                dtype=<class 'numpy.float64'>,\n",
       "                                                                handle_unknown='ignore',\n",
       "                                                                sparse=True),\n",
       "                                                  ['Make', 'Model',\n",
       "                                                   'Transmission', 'City',\n",
       "                                                   'Color', 'Body Style',\n",
       "                                                   'Fuel']),\n",
       "                                                 ('num',\n",
       "                                                  Stand...\n",
       "                              gamma=0, gpu_id=-1, grow_policy='depthwise',\n",
       "                              importance_type=None, interaction_constraints='',\n",
       "                              learning_rate=0.300000012, max_bin=256,\n",
       "                              max_cat_to_onehot=4, max_delta_step=0,\n",
       "                              max_depth=6, max_leaves=0, min_child_weight=1,\n",
       "                              missing=nan, monotone_constraints='()',\n",
       "                              n_estimators=100, n_jobs=0, num_parallel_tree=1,\n",
       "                              objective='reg:squarederror', predictor='auto',\n",
       "                              random_state=0, reg_alpha=0, ...))],\n",
       "         verbose=False)"
      ]
     },
     "execution_count": 207,
     "metadata": {},
     "output_type": "execute_result"
    }
   ],
   "source": [
    "# model = full_pipeLine()\n",
    "full_pipeLine = Pipeline([\n",
    "    ('processed',processed_pipeLine),\n",
    "    ('model',XGBRegressor())\n",
    "])\n",
    "\n",
    "full_pipeLine.fit(X_train, y_train)"
   ]
  },
  {
   "cell_type": "code",
   "execution_count": 208,
   "metadata": {},
   "outputs": [
    {
     "data": {
      "text/plain": [
       "array([288502.3  ,  97569.336,  98990.81 , ..., 153600.64 , 246470.5  ,\n",
       "        80886.75 ], dtype=float32)"
      ]
     },
     "execution_count": 208,
     "metadata": {},
     "output_type": "execute_result"
    }
   ],
   "source": [
    "y_pred = full_pipeLine.predict(X_test)\n",
    "y_pred"
   ]
  },
  {
   "cell_type": "code",
   "execution_count": 209,
   "metadata": {},
   "outputs": [
    {
     "name": "stdout",
     "output_type": "stream",
     "text": [
      "Test Score: 0.8456668166431481\n"
     ]
    }
   ],
   "source": [
    "print(f'Test Score: {full_pipeLine.score(X_test, y_test)}')"
   ]
  },
  {
   "cell_type": "code",
   "execution_count": 210,
   "metadata": {},
   "outputs": [
    {
     "data": {
      "text/plain": [
       "['H:\\\\Projects\\\\Epsilon InternShip\\\\Cars Price Prediction\\\\[6] Test_and_Deploy\\\\model.h5']"
      ]
     },
     "execution_count": 210,
     "metadata": {},
     "output_type": "execute_result"
    }
   ],
   "source": [
    "joblib.dump(full_pipeLine, originalPath + '\\[6] Test_and_Deploy' + '\\model.h5')"
   ]
  },
  {
   "cell_type": "code",
   "execution_count": null,
   "metadata": {},
   "outputs": [],
   "source": []
  }
 ],
 "metadata": {
  "kernelspec": {
   "display_name": "Python 3",
   "language": "python",
   "name": "python3"
  },
  "language_info": {
   "codemirror_mode": {
    "name": "ipython",
    "version": 3
   },
   "file_extension": ".py",
   "mimetype": "text/x-python",
   "name": "python",
   "nbconvert_exporter": "python",
   "pygments_lexer": "ipython3",
   "version": "3.7.6"
  }
 },
 "nbformat": 4,
 "nbformat_minor": 4
}
